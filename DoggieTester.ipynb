{
 "cells": [
  {
   "cell_type": "code",
   "execution_count": 7,
   "id": "reasonable-finish",
   "metadata": {},
   "outputs": [],
   "source": [
    "import os\n",
    "import pandas as pd\n",
    "import numpy as np\n",
    "import cv2\n",
    "\n",
    "from glob import glob\n",
    "from tqdm import tqdm\n",
    "\n",
    "import tensorflow as tf\n",
    "\n",
    "from sklearn.model_selection import train_test_split\n",
    "from sklearn import metrics"
   ]
  },
  {
   "cell_type": "code",
   "execution_count": 2,
   "id": "demonstrated-recycling",
   "metadata": {},
   "outputs": [],
   "source": [
    "def read_image(path, size):\n",
    "    image = cv2.imread(path, cv2.IMREAD_COLOR)\n",
    "    image = cv2.resize(image, (size,size))\n",
    "    image = image / 255.0\n",
    "    image = image.astype(np.float32)\n",
    "    return image"
   ]
  },
  {
   "cell_type": "code",
   "execution_count": 3,
   "id": "sweet-calvin",
   "metadata": {},
   "outputs": [
    {
     "name": "stdout",
     "output_type": "stream",
     "text": [
      "Number of Breed:  120\n"
     ]
    }
   ],
   "source": [
    "path = \"Dog_Breed_Ident/\"\n",
    "train_path = os.path.join(path, \"train/*\")\n",
    "test_path = os.path.join(path, \"test/*\")\n",
    "labels_path = os.path.join(path, \"labels.csv\")\n",
    "    \n",
    "labels_df = pd.read_csv(labels_path)\n",
    "breed = labels_df[\"breed\"].unique()\n",
    "print(\"Number of Breed: \", len(breed))\n",
    "    \n",
    "breed2id = {name: i for i, name in enumerate(breed)}\n",
    "id2breed = {i: name for i, name in enumerate(breed)}\n",
    "\n",
    "ids = glob(train_path)\n",
    "labels = []\n",
    "\n",
    "for image_id in ids:\n",
    "    image_id = image_id.split(\"/\")[-1].split(\".\")[0]\n",
    "    breed_name = list(labels_df[labels_df.id == image_id][\"breed\"])[0]\n",
    "    breed_index = breed2id[breed_name]\n",
    "    labels.append(breed_index)\n",
    "\n",
    "ids = ids[:1000]\n",
    "labels = labels[:1000]\n",
    "\n",
    "train_x, valid_x = train_test_split(ids, test_size=0.2, random_state=42)\n",
    "train_y, valid_y = train_test_split(labels, test_size=0.2, random_state=42)"
   ]
  },
  {
   "cell_type": "code",
   "execution_count": 4,
   "id": "adolescent-footage",
   "metadata": {},
   "outputs": [],
   "source": [
    "model = tf.keras.models.load_model(\"model.h5\")"
   ]
  },
  {
   "cell_type": "code",
   "execution_count": 12,
   "id": "expected-structure",
   "metadata": {},
   "outputs": [
    {
     "name": "stderr",
     "output_type": "stream",
     "text": [
      "10it [00:00, 10.12it/s]\n"
     ]
    }
   ],
   "source": [
    "for i, path in tqdm(enumerate(valid_x[:10])):\n",
    "    image = read_image(path, 224)\n",
    "    image = np.expand_dims(image, axis=0)\n",
    "    pred = model.predict(image)[0]\n",
    "    label_index = np.argmax(pred)\n",
    "    breed_name = id2breed[label_index]\n",
    "    \n",
    "    ori_breed = id2breed[valid_y[i]]\n",
    "    ori_image = cv2.imread(path, cv2.IMREAD_COLOR)\n",
    "    \n",
    "    ori_image = cv2.putText(ori_image, breed_name, (0, 10), cv2.FONT_HERSHEY_SIMPLEX, 0.5, (255,0,0), 1)\n",
    "    ori_image = cv2.putText(ori_image, ori_breed, (0, 30), cv2.FONT_HERSHEY_SIMPLEX, 0.5, (0,0,0), 1)\n",
    "    \n",
    "    cv2.imwrite(f\"save/valid_{i}.png\", ori_image)"
   ]
  },
  {
   "cell_type": "code",
   "execution_count": null,
   "id": "pharmaceutical-death",
   "metadata": {},
   "outputs": [],
   "source": []
  }
 ],
 "metadata": {
  "kernelspec": {
   "display_name": "Python 3",
   "language": "python",
   "name": "python3"
  },
  "language_info": {
   "codemirror_mode": {
    "name": "ipython",
    "version": 3
   },
   "file_extension": ".py",
   "mimetype": "text/x-python",
   "name": "python",
   "nbconvert_exporter": "python",
   "pygments_lexer": "ipython3",
   "version": "3.7.3"
  }
 },
 "nbformat": 4,
 "nbformat_minor": 5
}
