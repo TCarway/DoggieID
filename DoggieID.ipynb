{
 "cells": [
  {
   "cell_type": "code",
   "execution_count": 1,
   "id": "twenty-situation",
   "metadata": {},
   "outputs": [],
   "source": [
    "import os\n",
    "import pandas as pd\n",
    "import numpy as np\n",
    "import cv2\n",
    "from glob import glob\n",
    "\n",
    "import tensorflow as tf\n",
    "from tensorflow.keras.layers import *\n",
    "from tensorflow.keras.applications import MobileNetV2\n",
    "from tensorflow.keras.callbacks import ModelCheckpoint, ReduceLROnPlateau\n",
    "from tensorflow.keras.optimizers import Adam\n",
    "\n",
    "\n",
    "from sklearn.model_selection import train_test_split"
   ]
  },
  {
   "cell_type": "code",
   "execution_count": 2,
   "id": "metropolitan-thanksgiving",
   "metadata": {},
   "outputs": [],
   "source": [
    "def build_model(size, num_classes):\n",
    "    inputs = Input((size, size, 3))\n",
    "    back = MobileNetV2(input_tensor = inputs, include_top=False, weights=\"imagenet\")\n",
    "    back.trainable = True\n",
    "    x = back.output\n",
    "    x = GlobalAveragePooling2D()(x)\n",
    "    x = Dropout(0.2)(x)\n",
    "    x = Dense(1024, activation=\"relu\")(x)\n",
    "    x = Dense(num_classes, activation=\"softmax\")(x)\n",
    "    \n",
    "    model = tf.keras.Model(inputs, x)\n",
    "    return model"
   ]
  },
  {
   "cell_type": "code",
   "execution_count": 3,
   "id": "expanded-given",
   "metadata": {},
   "outputs": [],
   "source": [
    "def read_image(path, size):\n",
    "    image = cv2.imread(path, cv2.IMREAD_COLOR)\n",
    "    image = cv2.resize(image, (size,size))\n",
    "    image = image / 255.0\n",
    "    image = image.astype(np.float32)\n",
    "    return image"
   ]
  },
  {
   "cell_type": "code",
   "execution_count": 4,
   "id": "bound-beverage",
   "metadata": {},
   "outputs": [],
   "source": [
    "def parse_data(x, y):\n",
    "    x = x.decode()\n",
    "    \n",
    "    num_classes = 120\n",
    "    size = 224\n",
    "    \n",
    "    image = read_image(x, size)\n",
    "    label = [0] * num_classes\n",
    "    label[y] = 1\n",
    "    label = np.array(label)\n",
    "    label = label.astype(np.int32)\n",
    "    \n",
    "    return image, label"
   ]
  },
  {
   "cell_type": "code",
   "execution_count": 5,
   "id": "respected-european",
   "metadata": {},
   "outputs": [],
   "source": [
    "def tf_parse(x, y):\n",
    "    x, y = tf.numpy_function(parse_data, [x,y], [tf.float32, tf.int32])\n",
    "    x.set_shape((224,224,3))\n",
    "    y.set_shape((120))\n",
    "    \n",
    "    return x, y"
   ]
  },
  {
   "cell_type": "code",
   "execution_count": 6,
   "id": "racial-reliance",
   "metadata": {},
   "outputs": [],
   "source": [
    "def tf_dataset(x, y, batch=8):\n",
    "    dataset = tf.data.Dataset.from_tensor_slices((x,y))\n",
    "    dataset = dataset.map(tf_parse)\n",
    "    dataset = dataset.batch(batch)\n",
    "    dataset = dataset.repeat()\n",
    "    return dataset"
   ]
  },
  {
   "cell_type": "code",
   "execution_count": 7,
   "id": "metric-drunk",
   "metadata": {},
   "outputs": [
    {
     "name": "stdout",
     "output_type": "stream",
     "text": [
      "Number of Breed:  120\n"
     ]
    }
   ],
   "source": [
    "path = \"Dog_Breed_Ident/\"\n",
    "train_path = os.path.join(path, \"train/*\")\n",
    "test_path = os.path.join(path, \"test/*\")\n",
    "labels_path = os.path.join(path, \"labels.csv\")\n",
    "    \n",
    "labels_df = pd.read_csv(labels_path)\n",
    "breed = labels_df[\"breed\"].unique()\n",
    "print(\"Number of Breed: \", len(breed))\n",
    "    "
   ]
  },
  {
   "cell_type": "code",
   "execution_count": 8,
   "id": "chinese-relay",
   "metadata": {},
   "outputs": [],
   "source": [
    "breed2id = {name: i for i, name in enumerate(breed)}\n",
    "\n",
    "ids = glob(train_path)\n",
    "labels = []\n",
    "\n",
    "for image_id in ids:\n",
    "    image_id = image_id.split(\"/\")[-1].split(\".\")[0]\n",
    "    breed_name = list(labels_df[labels_df.id == image_id][\"breed\"])[0]\n",
    "    breed_index = breed2id[breed_name]\n",
    "    labels.append(breed_index)\n",
    "\n",
    "ids = ids[:1000]\n",
    "labels = labels[:1000]"
   ]
  },
  {
   "cell_type": "code",
   "execution_count": 9,
   "id": "third-washington",
   "metadata": {},
   "outputs": [],
   "source": [
    "train_x, valid_x = train_test_split(ids, test_size=0.2, random_state=42)\n",
    "train_y, valid_y = train_test_split(labels, test_size=0.2, random_state=42)"
   ]
  },
  {
   "cell_type": "code",
   "execution_count": 16,
   "id": "early-appendix",
   "metadata": {},
   "outputs": [],
   "source": [
    "#My Parameters\n",
    "size = 224\n",
    "num_classes = 120\n",
    "rate = 1e-5\n",
    "batch_size = 8\n",
    "epochs = 10"
   ]
  },
  {
   "cell_type": "code",
   "execution_count": 11,
   "id": "typical-intensity",
   "metadata": {},
   "outputs": [
    {
     "name": "stdout",
     "output_type": "stream",
     "text": [
      "WARNING:tensorflow:`input_shape` is undefined or non-square, or `rows` is not in [96, 128, 160, 192, 224]. Weights for input shape (224, 224) will be loaded as the default.\n"
     ]
    }
   ],
   "source": [
    "model = build_model(size, num_classes)\n",
    "model.compile(loss = \"categorical_crossentropy\", optimizer = Adam(rate), metrics=[\"acc\"])"
   ]
  },
  {
   "cell_type": "code",
   "execution_count": 12,
   "id": "intelligent-zambia",
   "metadata": {},
   "outputs": [],
   "source": [
    "# Making Datasets\n",
    "train_dataset = tf_dataset(train_x, train_y, batch=batch_size)\n",
    "valid_dataset = tf_dataset(valid_x, valid_y, batch=batch_size)"
   ]
  },
  {
   "cell_type": "code",
   "execution_count": 17,
   "id": "thirty-banking",
   "metadata": {},
   "outputs": [
    {
     "name": "stdout",
     "output_type": "stream",
     "text": [
      "Epoch 1/10\n",
      "101/101 [==============================] - 133s 1s/step - loss: 0.0105 - acc: 1.0000 - val_loss: 2.5055 - val_acc: 0.3700\n",
      "\n",
      "Epoch 00001: val_loss improved from inf to 2.50551, saving model to model.h5\n",
      "Epoch 2/10\n",
      "101/101 [==============================] - 137s 1s/step - loss: 0.0084 - acc: 1.0000 - val_loss: 2.4873 - val_acc: 0.3850\n",
      "\n",
      "Epoch 00002: val_loss improved from 2.50551 to 2.48732, saving model to model.h5\n",
      "Epoch 3/10\n",
      "101/101 [==============================] - 140s 1s/step - loss: 0.0068 - acc: 1.0000 - val_loss: 2.4548 - val_acc: 0.3950\n",
      "\n",
      "Epoch 00003: val_loss improved from 2.48732 to 2.45481, saving model to model.h5\n",
      "Epoch 4/10\n",
      "101/101 [==============================] - 139s 1s/step - loss: 0.0057 - acc: 1.0000 - val_loss: 2.4332 - val_acc: 0.4200\n",
      "\n",
      "Epoch 00004: val_loss improved from 2.45481 to 2.43324, saving model to model.h5\n",
      "Epoch 5/10\n",
      "101/101 [==============================] - 135s 1s/step - loss: 0.0046 - acc: 1.0000 - val_loss: 2.4082 - val_acc: 0.4250\n",
      "\n",
      "Epoch 00005: val_loss improved from 2.43324 to 2.40816, saving model to model.h5\n",
      "Epoch 6/10\n",
      "101/101 [==============================] - 132s 1s/step - loss: 0.0039 - acc: 1.0000 - val_loss: 2.3842 - val_acc: 0.4300\n",
      "\n",
      "Epoch 00006: val_loss improved from 2.40816 to 2.38419, saving model to model.h5\n",
      "Epoch 7/10\n",
      "101/101 [==============================] - 132s 1s/step - loss: 0.0035 - acc: 1.0000 - val_loss: 2.3765 - val_acc: 0.4400\n",
      "\n",
      "Epoch 00007: val_loss improved from 2.38419 to 2.37651, saving model to model.h5\n",
      "Epoch 8/10\n",
      "101/101 [==============================] - 131s 1s/step - loss: 0.0031 - acc: 1.0000 - val_loss: 2.3592 - val_acc: 0.4250\n",
      "\n",
      "Epoch 00008: val_loss improved from 2.37651 to 2.35918, saving model to model.h5\n",
      "Epoch 9/10\n",
      "101/101 [==============================] - 132s 1s/step - loss: 0.0026 - acc: 1.0000 - val_loss: 2.3543 - val_acc: 0.4350\n",
      "\n",
      "Epoch 00009: val_loss improved from 2.35918 to 2.35433, saving model to model.h5\n",
      "Epoch 10/10\n",
      "101/101 [==============================] - 135s 1s/step - loss: 0.0024 - acc: 1.0000 - val_loss: 2.3410 - val_acc: 0.4500\n",
      "\n",
      "Epoch 00010: val_loss improved from 2.35433 to 2.34097, saving model to model.h5\n"
     ]
    },
    {
     "data": {
      "text/plain": [
       "<tensorflow.python.keras.callbacks.History at 0x16ab80e48>"
      ]
     },
     "execution_count": 17,
     "metadata": {},
     "output_type": "execute_result"
    }
   ],
   "source": [
    "callbacks = [\n",
    "    ModelCheckpoint(\"model.h5\", verbose=1, save_best_only=True),\n",
    "    ReduceLROnPlateau(factor=0.1, patience=5, min_lr=1e-6)\n",
    "]\n",
    "\n",
    "\n",
    "train_steps = (len(train_x)//batch_size)+1\n",
    "valid_steps = (len(valid_x)//batch_size)+1\n",
    "model.fit(train_dataset, \n",
    "          steps_per_epoch=train_steps,\n",
    "          validation_steps=valid_steps,\n",
    "          validation_data=valid_dataset, \n",
    "          epochs=epochs, \n",
    "          callbacks=callbacks)"
   ]
  },
  {
   "cell_type": "code",
   "execution_count": null,
   "id": "driving-protein",
   "metadata": {},
   "outputs": [],
   "source": []
  }
 ],
 "metadata": {
  "kernelspec": {
   "display_name": "Python 3",
   "language": "python",
   "name": "python3"
  },
  "language_info": {
   "codemirror_mode": {
    "name": "ipython",
    "version": 3
   },
   "file_extension": ".py",
   "mimetype": "text/x-python",
   "name": "python",
   "nbconvert_exporter": "python",
   "pygments_lexer": "ipython3",
   "version": "3.7.3"
  }
 },
 "nbformat": 4,
 "nbformat_minor": 5
}
